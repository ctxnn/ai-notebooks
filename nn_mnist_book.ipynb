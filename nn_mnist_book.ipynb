{
  "cells": [
    {
      "cell_type": "markdown",
      "metadata": {
        "id": "Q5dVPoVWcFJo"
      },
      "source": [
        "**so this implementation is the practice for implementation in the `fundamental of deep learning book`**"
      ]
    },
    {
      "cell_type": "code",
      "execution_count": 38,
      "metadata": {
        "id": "8QbopDk4cBG1"
      },
      "outputs": [],
      "source": [
        "import torch\n"
      ]
    },
    {
      "cell_type": "code",
      "execution_count": 39,
      "metadata": {
        "id": "V6MwIUOwcW5g"
      },
      "outputs": [],
      "source": [
        "device = 'cuda' if torch.cuda.is_available() else 'cpu'"
      ]
    },
    {
      "cell_type": "code",
      "execution_count": 40,
      "metadata": {
        "colab": {
          "base_uri": "https://localhost:8080/"
        },
        "id": "p5GV6PcEclsY",
        "outputId": "43ad3bfc-2b08-4b49-a320-b87b736657ab"
      },
      "outputs": [
        {
          "name": "stdout",
          "output_type": "stream",
          "text": [
            "Mon Oct 21 15:42:47 2024       \n",
            "+---------------------------------------------------------------------------------------+\n",
            "| NVIDIA-SMI 535.104.05             Driver Version: 535.104.05   CUDA Version: 12.2     |\n",
            "|-----------------------------------------+----------------------+----------------------+\n",
            "| GPU  Name                 Persistence-M | Bus-Id        Disp.A | Volatile Uncorr. ECC |\n",
            "| Fan  Temp   Perf          Pwr:Usage/Cap |         Memory-Usage | GPU-Util  Compute M. |\n",
            "|                                         |                      |               MIG M. |\n",
            "|=========================================+======================+======================|\n",
            "|   0  Tesla T4                       Off | 00000000:00:04.0 Off |                    0 |\n",
            "| N/A   35C    P8              11W /  70W |      3MiB / 15360MiB |      0%      Default |\n",
            "|                                         |                      |                  N/A |\n",
            "+-----------------------------------------+----------------------+----------------------+\n",
            "                                                                                         \n",
            "+---------------------------------------------------------------------------------------+\n",
            "| Processes:                                                                            |\n",
            "|  GPU   GI   CI        PID   Type   Process name                            GPU Memory |\n",
            "|        ID   ID                                                             Usage      |\n",
            "|=======================================================================================|\n",
            "|  No running processes found                                                           |\n",
            "+---------------------------------------------------------------------------------------+\n"
          ]
        }
      ],
      "source": [
        "\n",
        "!nvidia-smi"
      ]
    },
    {
      "cell_type": "code",
      "execution_count": 41,
      "metadata": {
        "colab": {
          "base_uri": "https://localhost:8080/",
          "height": 35
        },
        "id": "i2g-6qIIcoVF",
        "outputId": "b95ec7b0-11a4-42c2-a244-a6ea89c1f7c4"
      },
      "outputs": [
        {
          "data": {
            "application/vnd.google.colaboratory.intrinsic+json": {
              "type": "string"
            },
            "text/plain": [
              "'cuda'"
            ]
          },
          "execution_count": 41,
          "metadata": {},
          "output_type": "execute_result"
        }
      ],
      "source": [
        "device"
      ]
    },
    {
      "cell_type": "code",
      "execution_count": 42,
      "metadata": {
        "id": "cyam71tVdGyP"
      },
      "outputs": [],
      "source": [
        "x = torch.tensor(4.0,requires_grad=True,device=device)\n",
        "y = torch.tensor(2.0,requires_grad=True,device=device)\n",
        "z = torch.tensor(1.0,requires_grad=True,device=device)"
      ]
    },
    {
      "cell_type": "code",
      "execution_count": 43,
      "metadata": {
        "id": "yt4kU0aAc71n"
      },
      "outputs": [],
      "source": [
        "f = x**2 + y**3 + z**3\n",
        "f.backward()"
      ]
    },
    {
      "cell_type": "code",
      "execution_count": 11,
      "metadata": {
        "colab": {
          "base_uri": "https://localhost:8080/"
        },
        "id": "QjLy6pqYdSdk",
        "outputId": "bde2803b-ecdc-4d72-a317-367d60be8455"
      },
      "outputs": [
        {
          "data": {
            "text/plain": [
              "(tensor(8., device='cuda:0'),\n",
              " tensor(12., device='cuda:0'),\n",
              " tensor(3., device='cuda:0'))"
            ]
          },
          "execution_count": 11,
          "metadata": {},
          "output_type": "execute_result"
        }
      ],
      "source": [
        "x.grad,y.grad,z.grad"
      ]
    },
    {
      "cell_type": "code",
      "execution_count": 12,
      "metadata": {
        "colab": {
          "base_uri": "https://localhost:8080/"
        },
        "id": "e6xb47pgdWMn",
        "outputId": "a36c564a-497b-4482-fc08-60af4aad3357"
      },
      "outputs": [
        {
          "data": {
            "text/plain": [
              "device(type='cuda', index=0)"
            ]
          },
          "execution_count": 12,
          "metadata": {},
          "output_type": "execute_result"
        }
      ],
      "source": [
        "x.device"
      ]
    },
    {
      "cell_type": "code",
      "execution_count": 3,
      "metadata": {
        "id": "9gdtc1S9dbUD"
      },
      "outputs": [],
      "source": [
        "import torchvision.datasets\n",
        "from torchvision.transforms import ToTensor"
      ]
    },
    {
      "cell_type": "code",
      "execution_count": 5,
      "metadata": {
        "colab": {
          "base_uri": "https://localhost:8080/"
        },
        "id": "aay-VDwPo26d",
        "outputId": "05b8d472-40b7-45b4-c594-87cd6b7df7d1"
      },
      "outputs": [
        {
          "name": "stdout",
          "output_type": "stream",
          "text": [
            "Downloading http://yann.lecun.com/exdb/mnist/train-images-idx3-ubyte.gz\n",
            "Failed to download (trying next):\n",
            "<urlopen error [SSL: CERTIFICATE_VERIFY_FAILED] certificate verify failed: certificate has expired (_ssl.c:1007)>\n",
            "\n",
            "Downloading https://ossci-datasets.s3.amazonaws.com/mnist/train-images-idx3-ubyte.gz\n",
            "Downloading https://ossci-datasets.s3.amazonaws.com/mnist/train-images-idx3-ubyte.gz to mnist/MNIST/raw/train-images-idx3-ubyte.gz\n"
          ]
        },
        {
          "name": "stderr",
          "output_type": "stream",
          "text": [
            "100%|██████████| 9912422/9912422 [00:00<00:00, 12914234.25it/s]\n"
          ]
        },
        {
          "name": "stdout",
          "output_type": "stream",
          "text": [
            "Extracting mnist/MNIST/raw/train-images-idx3-ubyte.gz to mnist/MNIST/raw\n",
            "\n",
            "Downloading http://yann.lecun.com/exdb/mnist/train-labels-idx1-ubyte.gz\n",
            "Failed to download (trying next):\n",
            "<urlopen error [SSL: CERTIFICATE_VERIFY_FAILED] certificate verify failed: certificate has expired (_ssl.c:1007)>\n",
            "\n",
            "Downloading https://ossci-datasets.s3.amazonaws.com/mnist/train-labels-idx1-ubyte.gz\n",
            "Downloading https://ossci-datasets.s3.amazonaws.com/mnist/train-labels-idx1-ubyte.gz to mnist/MNIST/raw/train-labels-idx1-ubyte.gz\n"
          ]
        },
        {
          "name": "stderr",
          "output_type": "stream",
          "text": [
            "100%|██████████| 28881/28881 [00:00<00:00, 347869.16it/s]\n"
          ]
        },
        {
          "name": "stdout",
          "output_type": "stream",
          "text": [
            "Extracting mnist/MNIST/raw/train-labels-idx1-ubyte.gz to mnist/MNIST/raw\n",
            "\n",
            "Downloading http://yann.lecun.com/exdb/mnist/t10k-images-idx3-ubyte.gz\n",
            "Failed to download (trying next):\n",
            "<urlopen error [SSL: CERTIFICATE_VERIFY_FAILED] certificate verify failed: certificate has expired (_ssl.c:1007)>\n",
            "\n",
            "Downloading https://ossci-datasets.s3.amazonaws.com/mnist/t10k-images-idx3-ubyte.gz\n",
            "Downloading https://ossci-datasets.s3.amazonaws.com/mnist/t10k-images-idx3-ubyte.gz to mnist/MNIST/raw/t10k-images-idx3-ubyte.gz\n"
          ]
        },
        {
          "name": "stderr",
          "output_type": "stream",
          "text": [
            "100%|██████████| 1648877/1648877 [00:02<00:00, 692231.46it/s]\n"
          ]
        },
        {
          "name": "stdout",
          "output_type": "stream",
          "text": [
            "Extracting mnist/MNIST/raw/t10k-images-idx3-ubyte.gz to mnist/MNIST/raw\n",
            "\n",
            "Downloading http://yann.lecun.com/exdb/mnist/t10k-labels-idx1-ubyte.gz\n",
            "Failed to download (trying next):\n",
            "<urlopen error [SSL: CERTIFICATE_VERIFY_FAILED] certificate verify failed: certificate has expired (_ssl.c:1007)>\n",
            "\n",
            "Downloading https://ossci-datasets.s3.amazonaws.com/mnist/t10k-labels-idx1-ubyte.gz\n",
            "Downloading https://ossci-datasets.s3.amazonaws.com/mnist/t10k-labels-idx1-ubyte.gz to mnist/MNIST/raw/t10k-labels-idx1-ubyte.gz\n"
          ]
        },
        {
          "name": "stderr",
          "output_type": "stream",
          "text": [
            "100%|██████████| 4542/4542 [00:00<00:00, 3591728.65it/s]"
          ]
        },
        {
          "name": "stdout",
          "output_type": "stream",
          "text": [
            "Extracting mnist/MNIST/raw/t10k-labels-idx1-ubyte.gz to mnist/MNIST/raw\n",
            "\n"
          ]
        },
        {
          "name": "stderr",
          "output_type": "stream",
          "text": [
            "\n"
          ]
        }
      ],
      "source": [
        "train_set = torchvision.datasets.MNIST('mnist',train=True,transform=ToTensor(),download=True)\n",
        "test_set = torchvision.datasets.MNIST('mnist',train=False,transform=ToTensor(),download=True)"
      ]
    },
    {
      "cell_type": "code",
      "execution_count": 21,
      "metadata": {
        "colab": {
          "base_uri": "https://localhost:8080/"
        },
        "id": "KYI-M4sXqop0",
        "outputId": "8c9ea9c4-fdad-4f1a-8e34-f0a11f7fa45d"
      },
      "outputs": [
        {
          "data": {
            "text/plain": [
              "(60000, 10000)"
            ]
          },
          "execution_count": 21,
          "metadata": {},
          "output_type": "execute_result"
        }
      ],
      "source": [
        "len(train_set),len(test_set)"
      ]
    },
    {
      "cell_type": "code",
      "execution_count": 22,
      "metadata": {
        "colab": {
          "base_uri": "https://localhost:8080/",
          "height": 469
        },
        "id": "liw_zQMtrwMZ",
        "outputId": "1ae2424f-a36f-419d-be4c-0ac29eea4705"
      },
      "outputs": [
        {
          "name": "stdout",
          "output_type": "stream",
          "text": [
            "Image shape: torch.Size([1, 28, 28])\n"
          ]
        },
        {
          "data": {
            "image/png": "[encoded data removed]",
            "text/plain": [
              "<Figure size 640x480 with 1 Axes>"
            ]
          },
          "metadata": {},
          "output_type": "display_data"
        }
      ],
      "source": [
        "import matplotlib.pyplot as plt\n",
        "image, label = train_set[0]\n",
        "print(f\"Image shape: {image.shape}\")\n",
        "plt.imshow(image.squeeze()) # image shape is [1, 28, 28] (colour channels, height, width)\n",
        "plt.title(label);"
      ]
    },
    {
      "cell_type": "code",
      "execution_count": 30,
      "metadata": {
        "colab": {
          "base_uri": "https://localhost:8080/"
        },
        "id": "Vaa5LHSxrz3N",
        "outputId": "7681af25-1173-4cab-9e40-f8ce1c342e56"
      },
      "outputs": [
        {
          "data": {
            "text/plain": [
              "(torch.Size([28, 28]), 5)"
            ]
          },
          "execution_count": 30,
          "metadata": {},
          "output_type": "execute_result"
        }
      ],
      "source": [
        "image.squeeze().shape,label"
      ]
    },
    {
      "cell_type": "code",
      "execution_count": 6,
      "metadata": {
        "id": "J6CLkpoAp-6I"
      },
      "outputs": [],
      "source": [
        "import torch.utils.data"
      ]
    },
    {
      "cell_type": "code",
      "execution_count": 32,
      "metadata": {
        "id": "AIgg6uMvqcy2"
      },
      "outputs": [],
      "source": [
        "train_dataloader = torch.utils.data.DataLoader(train_set, batch_size=64, shuffle=True )\n",
        "test_dataloader = torch.utils.data.DataLoader(test_set, batch_size=64, shuffle=False)"
      ]
    },
    {
      "cell_type": "code",
      "execution_count": 35,
      "metadata": {
        "colab": {
          "base_uri": "https://localhost:8080/",
          "height": 482
        },
        "id": "ql_dsOCTsl22",
        "outputId": "450222e5-0c2a-4f30-8545-a1a48b8b92ae"
      },
      "outputs": [
        {
          "name": "stdout",
          "output_type": "stream",
          "text": [
            "Feature batch shape: torch.Size([64, 1, 28, 28])\n",
            "Labels batch shape: torch.Size([64])\n"
          ]
        },
        {
          "data": {
            "image/png": "[encoded data removed]",
            "text/plain": [
              "<Figure size 640x480 with 1 Axes>"
            ]
          },
          "metadata": {},
          "output_type": "display_data"
        },
        {
          "name": "stdout",
          "output_type": "stream",
          "text": [
            "Label: 1\n"
          ]
        }
      ],
      "source": [
        "train_features, train_labels = next(iter(train_dataloader))\n",
        "print(f\"Feature batch shape: {train_features.size()}\")\n",
        "print(f\"Labels batch shape: {train_labels.size()}\")\n",
        "img = train_features[0].squeeze()\n",
        "label = train_labels[0]\n",
        "plt.imshow(img, cmap=\"gray\")\n",
        "plt.show()\n",
        "print(f\"Label: {label}\")"
      ]
    },
    {
      "cell_type": "code",
      "execution_count": 44,
      "metadata": {
        "colab": {
          "base_uri": "https://localhost:8080/",
          "height": 35
        },
        "id": "F-JpH0utvpNK",
        "outputId": "e497f376-1305-437c-f0af-fa0317804cd7"
      },
      "outputs": [
        {
          "data": {
            "application/vnd.google.colaboratory.intrinsic+json": {
              "type": "string"
            },
            "text/plain": [
              "'cuda'"
            ]
          },
          "execution_count": 44,
          "metadata": {},
          "output_type": "execute_result"
        }
      ],
      "source": [
        "device"
      ]
    },
    {
      "cell_type": "code",
      "execution_count": 36,
      "metadata": {
        "id": "h3hP4GYRtuSH"
      },
      "outputs": [],
      "source": [
        "import torch.nn as nn"
      ]
    },
    {
      "cell_type": "code",
      "execution_count": 64,
      "metadata": {
        "id": "TyKJJqQcyjcP"
      },
      "outputs": [],
      "source": [
        "import numpy as np"
      ]
    },
    {
      "cell_type": "code",
      "execution_count": 122,
      "metadata": {
        "colab": {
          "base_uri": "https://localhost:8080/"
        },
        "id": "c37PmsRMsz_O",
        "outputId": "ef9b8f80-4396-4e12-9837-7986edd45b33"
      },
      "outputs": [
        {
          "data": {
            "text/plain": [
              "ModelOMG(\n",
              "  (classifier): Sequential(\n",
              "    (0): Linear(in_features=784, out_features=512, bias=True)\n",
              "    (1): LeakyReLU(negative_slope=0.01)\n",
              "    (2): Linear(in_features=512, out_features=10, bias=True)\n",
              "  )\n",
              ")"
            ]
          },
          "execution_count": 122,
          "metadata": {},
          "output_type": "execute_result"
        }
      ],
      "source": [
        "class ModelOMG(nn.Module):\n",
        "  def __init__(self, input_shape, output_shape):\n",
        "    super().__init__()\n",
        "    self.classifier = nn.Sequential(\n",
        "\n",
        "        nn.Linear(input_shape,512),\n",
        "        nn.LeakyReLU(),\n",
        "        nn.Linear(512,output_shape),\n",
        "    )\n",
        "\n",
        "  def forward(self, x):\n",
        "    x = x.view(x.size(0), -1)\n",
        "    out = self.classifier(x)\n",
        "    return out\n",
        "input_shape = 28*28\n",
        "output_shape = 10\n",
        "model = ModelOMG(input_shape,output_shape).to(device)\n",
        "model"
      ]
    },
    {
      "cell_type": "code",
      "execution_count": 123,
      "metadata": {
        "id": "TocPEogowpKn"
      },
      "outputs": [],
      "source": [
        "loss_fn = nn.CrossEntropyLoss()\n",
        "optimizer = torch.optim.Adam(model.parameters(),lr=0.01)"
      ]
    },
    {
      "cell_type": "code",
      "execution_count": 124,
      "metadata": {
        "id": "OJlkzFGCxr4A"
      },
      "outputs": [],
      "source": [
        "from tqdm import tqdm"
      ]
    },
    {
      "cell_type": "code",
      "execution_count": 125,
      "metadata": {
        "colab": {
          "base_uri": "https://localhost:8080/"
        },
        "id": "OadcWtUPvvQb",
        "outputId": "b7ef7f62-cc4d-46c3-e054-60f35ea9ac59"
      },
      "outputs": [
        {
          "name": "stderr",
          "output_type": "stream",
          "text": [
            " 10%|█         | 10/100 [01:22<11:52,  7.91s/it]"
          ]
        },
        {
          "name": "stdout",
          "output_type": "stream",
          "text": [
            "epoch:10 | loss=0.10956859198928044\n"
          ]
        },
        {
          "name": "stderr",
          "output_type": "stream",
          "text": [
            " 20%|██        | 20/100 [02:40<10:29,  7.87s/it]"
          ]
        },
        {
          "name": "stdout",
          "output_type": "stream",
          "text": [
            "epoch:20 | loss=0.09984501958716584\n"
          ]
        },
        {
          "name": "stderr",
          "output_type": "stream",
          "text": [
            " 30%|███       | 30/100 [03:58<09:06,  7.81s/it]"
          ]
        },
        {
          "name": "stdout",
          "output_type": "stream",
          "text": [
            "epoch:30 | loss=0.09752474055309206\n"
          ]
        },
        {
          "name": "stderr",
          "output_type": "stream",
          "text": [
            " 40%|████      | 40/100 [05:15<07:41,  7.68s/it]"
          ]
        },
        {
          "name": "stdout",
          "output_type": "stream",
          "text": [
            "epoch:40 | loss=0.07859612111769164\n"
          ]
        },
        {
          "name": "stderr",
          "output_type": "stream",
          "text": [
            " 50%|█████     | 50/100 [06:31<06:20,  7.61s/it]"
          ]
        },
        {
          "name": "stdout",
          "output_type": "stream",
          "text": [
            "epoch:50 | loss=0.07159002648963084\n"
          ]
        },
        {
          "name": "stderr",
          "output_type": "stream",
          "text": [
            " 60%|██████    | 60/100 [07:51<05:31,  8.30s/it]"
          ]
        },
        {
          "name": "stdout",
          "output_type": "stream",
          "text": [
            "epoch:60 | loss=0.07656127284729726\n"
          ]
        },
        {
          "name": "stderr",
          "output_type": "stream",
          "text": [
            " 70%|███████   | 70/100 [09:10<03:52,  7.75s/it]"
          ]
        },
        {
          "name": "stdout",
          "output_type": "stream",
          "text": [
            "epoch:70 | loss=0.09239704462229628\n"
          ]
        },
        {
          "name": "stderr",
          "output_type": "stream",
          "text": [
            " 80%|████████  | 80/100 [10:31<02:44,  8.21s/it]"
          ]
        },
        {
          "name": "stdout",
          "output_type": "stream",
          "text": [
            "epoch:80 | loss=0.04361678281354142\n"
          ]
        },
        {
          "name": "stderr",
          "output_type": "stream",
          "text": [
            " 90%|█████████ | 90/100 [11:52<01:19,  7.94s/it]"
          ]
        },
        {
          "name": "stdout",
          "output_type": "stream",
          "text": [
            "epoch:90 | loss=0.06154487663257913\n"
          ]
        },
        {
          "name": "stderr",
          "output_type": "stream",
          "text": [
            "100%|██████████| 100/100 [13:09<00:00,  7.90s/it]"
          ]
        },
        {
          "name": "stdout",
          "output_type": "stream",
          "text": [
            "epoch:100 | loss=0.07854077191347503\n"
          ]
        },
        {
          "name": "stderr",
          "output_type": "stream",
          "text": [
            "\n"
          ]
        }
      ],
      "source": [
        "# training the model\n",
        "epochs = 100\n",
        "losses = []\n",
        "for epoch in tqdm(range(epochs)):\n",
        "    trainloss = 0\n",
        "    model.train()\n",
        "    for img, label in train_dataloader:\n",
        "        output = model(img.to(device))\n",
        "        loss = loss_fn(output, label.to(device))\n",
        "        trainloss += loss.item()  # Accumulate loss per batch\n",
        "\n",
        "        optimizer.zero_grad()\n",
        "        loss.backward()\n",
        "        optimizer.step()\n",
        "\n",
        "    # Store average loss per epoch\n",
        "    avg_train_loss = trainloss / len(train_dataloader)\n",
        "    losses.append(avg_train_loss)\n",
        "\n",
        "    # Print loss every 10 epochs\n",
        "    if (epoch + 1) % 10 == 0:\n",
        "        print(f\"epoch:{epoch+1} | loss={avg_train_loss}\")\n"
      ]
    },
    {
      "cell_type": "code",
      "execution_count": 126,
      "metadata": {
        "colab": {
          "base_uri": "https://localhost:8080/",
          "height": 430
        },
        "id": "m_SeS7LqwQVl",
        "outputId": "fe37405a-d85a-4b37-f07a-63c1e5f43a46"
      },
      "outputs": [
        {
          "data": {
            "image/png": "[encoded data removed]",
            "text/plain": [
              "<Figure size 640x480 with 1 Axes>"
            ]
          },
          "metadata": {},
          "output_type": "display_data"
        }
      ],
      "source": [
        "plt.figure()\n",
        "plt.plot(losses)\n",
        "plt.grid()\n",
        "plt.show()"
      ]
    },
    {
      "cell_type": "code",
      "execution_count": 135,
      "metadata": {
        "colab": {
          "base_uri": "https://localhost:8080/"
        },
        "id": "SR2lmsYL373Z",
        "outputId": "6e82f3a7-0dc4-47b8-a4cf-5c5963de24d8"
      },
      "outputs": [
        {
          "name": "stdout",
          "output_type": "stream",
          "text": [
            "Test loss: 3.1091 | Test accuracy: 97.85%\n"
          ]
        }
      ],
      "source": [
        "accuracy = 0.0\n",
        "computed_loss = 0.0\n",
        "total_samples = 0\n",
        "\n",
        "model.eval()\n",
        "with torch.no_grad():\n",
        "    for data, target in test_dataloader:\n",
        "        data = data.to(device).flatten(start_dim=1)  # Move data to GPU and flatten\n",
        "        target = target.to(device)  # Move target to GPU\n",
        "\n",
        "        # Forward pass\n",
        "        out = model(data)\n",
        "\n",
        "        # Predicted class\n",
        "        _, preds = out.max(dim=1)\n",
        "\n",
        "        # Calculate loss for the batch and accumulate it\n",
        "        loss = loss_fn(out, target)\n",
        "        computed_loss += loss.item() * data.size(0)  # Multiply loss by the batch size\n",
        "\n",
        "        # Calculate accuracy\n",
        "        accuracy += torch.sum(preds == target).item()  # Count correct predictions\n",
        "        total_samples += data.size(0)  # Accumulate total samples\n",
        "\n",
        "# Average loss and accuracy across all batches\n",
        "computed_loss /= total_samples\n",
        "accuracy = (accuracy / total_samples) * 100\n",
        "\n",
        "print(f\"Test loss: {computed_loss:.4f} | Test accuracy: {accuracy:.2f}%\")\n"
      ]
    },
    {
      "cell_type": "markdown",
      "metadata": {
        "id": "MTB-_t6yAa8i"
      },
      "source": [
        "### **got better accuracy then the model in the book**"
      ]
    },
    {
      "cell_type": "markdown",
      "metadata": {},
      "source": [
        "### an example on scikit learn digits dataset "
      ]
    },
    {
      "cell_type": "code",
      "execution_count": 1,
      "metadata": {},
      "outputs": [],
      "source": [
        "import torch \n",
        "import torch.nn as nn \n",
        "import numpy \n",
        "import sklearn "
      ]
    },
    {
      "cell_type": "code",
      "execution_count": 2,
      "metadata": {},
      "outputs": [],
      "source": [
        "from sklearn.datasets import load_digits "
      ]
    },
    {
      "cell_type": "code",
      "execution_count": 3,
      "metadata": {},
      "outputs": [],
      "source": [
        "x, y = load_digits(return_X_y=True)"
      ]
    },
    {
      "cell_type": "code",
      "execution_count": 4,
      "metadata": {},
      "outputs": [
        {
          "data": {
            "text/plain": [
              "((1797, 64), (1797,))"
            ]
          },
          "execution_count": 4,
          "metadata": {},
          "output_type": "execute_result"
        }
      ],
      "source": [
        "x.shape, y.shape"
      ]
    },
    {
      "cell_type": "code",
      "execution_count": 5,
      "metadata": {},
      "outputs": [],
      "source": [
        "x = torch.from_numpy(x).float()\n",
        "y = torch.from_numpy(y).float()"
      ]
    },
    {
      "cell_type": "code",
      "execution_count": 6,
      "metadata": {},
      "outputs": [],
      "source": [
        "x = x.float() \n",
        "y = y.long()"
      ]
    },
    {
      "cell_type": "code",
      "execution_count": 7,
      "metadata": {},
      "outputs": [],
      "source": [
        "class MLP(nn.Module):\n",
        "\n",
        "  def __init__(self):\n",
        "    super().__init__() \n",
        "    self.layers = nn.Sequential(\n",
        "        nn.Linear(64, 256), \n",
        "        nn.ReLU(), \n",
        "        nn.Linear(256, 256), \n",
        "        nn.ReLU(), \n",
        "        nn.Linear(256, 10)\n",
        "    )\n",
        "\n",
        "  def forward(self, x):\n",
        "    return self.layers(x)"
      ]
    },
    {
      "cell_type": "code",
      "execution_count": 8,
      "metadata": {},
      "outputs": [],
      "source": [
        "model1 = MLP()\n",
        "loss1 = nn.CrossEntropyLoss()\n",
        "optimizer = torch.optim.SGD(model1.parameters(),lr = 0.05)"
      ]
    },
    {
      "cell_type": "code",
      "execution_count": 10,
      "metadata": {},
      "outputs": [
        {
          "name": "stdout",
          "output_type": "stream",
          "text": [
            "Epoch [1/50], Loss: 0.1764, Accuracy: 95.60%\n",
            "Epoch [2/50], Loss: 0.1675, Accuracy: 95.83%\n",
            "Epoch [3/50], Loss: 0.1488, Accuracy: 96.61%\n",
            "Epoch [4/50], Loss: 0.1433, Accuracy: 97.05%\n",
            "Epoch [5/50], Loss: 0.1356, Accuracy: 96.94%\n",
            "Epoch [6/50], Loss: 0.1321, Accuracy: 97.27%\n",
            "Epoch [7/50], Loss: 0.1282, Accuracy: 97.61%\n",
            "Epoch [8/50], Loss: 0.1256, Accuracy: 97.50%\n",
            "Epoch [9/50], Loss: 0.1230, Accuracy: 97.89%\n",
            "Epoch [10/50], Loss: 0.1209, Accuracy: 97.66%\n",
            "Epoch [11/50], Loss: 0.1188, Accuracy: 98.00%\n",
            "Epoch [12/50], Loss: 0.1170, Accuracy: 97.94%\n",
            "Epoch [13/50], Loss: 0.1152, Accuracy: 98.16%\n",
            "Epoch [14/50], Loss: 0.1135, Accuracy: 98.00%\n",
            "Epoch [15/50], Loss: 0.1118, Accuracy: 98.22%\n",
            "Epoch [16/50], Loss: 0.1103, Accuracy: 98.11%\n",
            "Epoch [17/50], Loss: 0.1088, Accuracy: 98.22%\n",
            "Epoch [18/50], Loss: 0.1074, Accuracy: 98.11%\n",
            "Epoch [19/50], Loss: 0.1060, Accuracy: 98.33%\n",
            "Epoch [20/50], Loss: 0.1046, Accuracy: 98.27%\n",
            "Epoch [21/50], Loss: 0.1033, Accuracy: 98.39%\n",
            "Epoch [22/50], Loss: 0.1021, Accuracy: 98.33%\n",
            "Epoch [23/50], Loss: 0.1008, Accuracy: 98.50%\n",
            "Epoch [24/50], Loss: 0.0996, Accuracy: 98.44%\n",
            "Epoch [25/50], Loss: 0.0985, Accuracy: 98.50%\n",
            "Epoch [26/50], Loss: 0.0973, Accuracy: 98.44%\n",
            "Epoch [27/50], Loss: 0.0962, Accuracy: 98.50%\n",
            "Epoch [28/50], Loss: 0.0951, Accuracy: 98.50%\n",
            "Epoch [29/50], Loss: 0.0941, Accuracy: 98.55%\n",
            "Epoch [30/50], Loss: 0.0930, Accuracy: 98.55%\n",
            "Epoch [31/50], Loss: 0.0920, Accuracy: 98.55%\n",
            "Epoch [32/50], Loss: 0.0910, Accuracy: 98.61%\n",
            "Epoch [33/50], Loss: 0.0901, Accuracy: 98.55%\n",
            "Epoch [34/50], Loss: 0.0891, Accuracy: 98.61%\n",
            "Epoch [35/50], Loss: 0.0882, Accuracy: 98.66%\n",
            "Epoch [36/50], Loss: 0.0873, Accuracy: 98.66%\n",
            "Epoch [37/50], Loss: 0.0864, Accuracy: 98.66%\n",
            "Epoch [38/50], Loss: 0.0856, Accuracy: 98.66%\n",
            "Epoch [39/50], Loss: 0.0847, Accuracy: 98.66%\n",
            "Epoch [40/50], Loss: 0.0839, Accuracy: 98.66%\n",
            "Epoch [41/50], Loss: 0.0830, Accuracy: 98.66%\n",
            "Epoch [42/50], Loss: 0.0822, Accuracy: 98.66%\n",
            "Epoch [43/50], Loss: 0.0815, Accuracy: 98.66%\n",
            "Epoch [44/50], Loss: 0.0807, Accuracy: 98.66%\n",
            "Epoch [45/50], Loss: 0.0799, Accuracy: 98.66%\n",
            "Epoch [46/50], Loss: 0.0792, Accuracy: 98.66%\n",
            "Epoch [47/50], Loss: 0.0784, Accuracy: 98.66%\n",
            "Epoch [48/50], Loss: 0.0777, Accuracy: 98.66%\n",
            "Epoch [49/50], Loss: 0.0770, Accuracy: 98.66%\n",
            "Epoch [50/50], Loss: 0.0763, Accuracy: 98.72%\n"
          ]
        }
      ],
      "source": [
        "epochs = 50\n",
        "for epoch in range(epochs):\n",
        "    model1.float()  \n",
        "    out = model1(x)  # Forward pass\n",
        "\n",
        "    loss = loss1(out, y.long())  # Compute loss\n",
        "    optimizer.zero_grad()\n",
        "    loss.backward()\n",
        "    optimizer.step()\n",
        "    \n",
        "    # Compute accuracy\n",
        "    preds = torch.argmax(out, dim=1)  # Get predicted class\n",
        "    correct = (preds == y).sum().item()\n",
        "    accuracy = correct / y.size(0)\n",
        "    \n",
        "    print(f\"Epoch [{epoch+1}/{epochs}], Loss: {loss.item():.4f}, Accuracy: {accuracy * 100:.2f}%\")\n"
      ]
    },
    {
      "cell_type": "code",
      "execution_count": null,
      "metadata": {},
      "outputs": [],
      "source": []
    }
  ],
  "metadata": {
    "accelerator": "GPU",
    "colab": {
      "gpuType": "T4",
      "provenance": []
    },
    "kernelspec": {
      "display_name": "my_central_env",
      "language": "python",
      "name": "python3"
    },
    "language_info": {
      "codemirror_mode": {
        "name": "ipython",
        "version": 3
      },
      "file_extension": ".py",
      "mimetype": "text/x-python",
      "name": "python",
      "nbconvert_exporter": "python",
      "pygments_lexer": "ipython3",
      "version": "3.11.3"
    }
  },
  "nbformat": 4,
  "nbformat_minor": 0
}
