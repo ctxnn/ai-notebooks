{
 "cells": [
  {
   "cell_type": "markdown",
   "metadata": {},
   "source": [
    "# Einops"
   ]
  },
  {
   "cell_type": "markdown",
   "metadata": {},
   "source": [
    "### in this notebook i will learn einops and then train a MLP using it on any sample dataset "
   ]
  },
  {
   "cell_type": "code",
   "execution_count": 3,
   "metadata": {},
   "outputs": [],
   "source": [
    "import einops \n",
    "import torch  \n",
    "import torch.nn as nn\n",
    "import numpy as np\n"
   ]
  },
  {
   "cell_type": "code",
   "execution_count": 6,
   "metadata": {},
   "outputs": [],
   "source": [
    "x = torch.randn(size=(1, 3, 85, 13, 13))"
   ]
  },
  {
   "cell_type": "code",
   "execution_count": 7,
   "metadata": {},
   "outputs": [
    {
     "data": {
      "text/plain": [
       "torch.Size([1, 3, 85, 13, 13])"
      ]
     },
     "execution_count": 7,
     "metadata": {},
     "output_type": "execute_result"
    }
   ],
   "source": [
    "x.shape"
   ]
  },
  {
   "cell_type": "code",
   "execution_count": 8,
   "metadata": {},
   "outputs": [
    {
     "data": {
      "text/plain": [
       "torch.Size([1, 3, 13, 85, 13])"
      ]
     },
     "execution_count": 8,
     "metadata": {},
     "output_type": "execute_result"
    }
   ],
   "source": [
    "# lets say i want the shape to be (1, 3, 13, 85, 13)\n",
    "#1 -> use permute api \n",
    "\n",
    "x = x.permute(0, 1, 3, 2, 4)\n",
    "x.shape"
   ]
  },
  {
   "cell_type": "code",
   "execution_count": 20,
   "metadata": {},
   "outputs": [],
   "source": [
    "x = torch.randn(size=(1, 3, 85, 13, 13))"
   ]
  },
  {
   "cell_type": "code",
   "execution_count": null,
   "metadata": {},
   "outputs": [
    {
     "data": {
      "text/plain": [
       "torch.Size([1, 3, 13, 85, 13])"
      ]
     },
     "execution_count": 11,
     "metadata": {},
     "output_type": "execute_result"
    }
   ],
   "source": [
    "#2 -> use einops api\n",
    "x = einops.rearrange(x, 'b c h w d -> b c d h w')\n",
    "x.shape"
   ]
  },
  {
   "cell_type": "code",
   "execution_count": 16,
   "metadata": {},
   "outputs": [],
   "source": [
    "x = torch.randn(size=(1, 3, 85, 13, 13))"
   ]
  },
  {
   "cell_type": "code",
   "execution_count": 15,
   "metadata": {},
   "outputs": [
    {
     "data": {
      "text/plain": [
       "torch.Size([1, 507, 85])"
      ]
     },
     "execution_count": 15,
     "metadata": {},
     "output_type": "execute_result"
    }
   ],
   "source": [
    "# now i want the shape to be (1, 3*13*13, 85)\n",
    "#1 -> use reshape api\n",
    "x = x.reshape(1, 3*13*13, 85)\n",
    "x.shape"
   ]
  },
  {
   "cell_type": "code",
   "execution_count": 21,
   "metadata": {},
   "outputs": [
    {
     "data": {
      "text/plain": [
       "torch.Size([1, 507, 85])"
      ]
     },
     "execution_count": 21,
     "metadata": {},
     "output_type": "execute_result"
    }
   ],
   "source": [
    "# 2 -> use einops \n",
    "x = einops.rearrange(x, 'b c h w d -> b (c w d) h' )\n",
    "x.shape"
   ]
  },
  {
   "cell_type": "code",
   "execution_count": 23,
   "metadata": {},
   "outputs": [
    {
     "data": {
      "text/plain": [
       "torch.Size([1, 3, 13, 13, 85])"
      ]
     },
     "execution_count": 23,
     "metadata": {},
     "output_type": "execute_result"
    }
   ],
   "source": [
    "# now lets go reverse from [1, 507, 85] -> [1, 3, 85, 13, 13]\n",
    "x = einops.rearrange(x, 'b (c w d) h -> b c w d h', c = 3, w=13, d=13)\n",
    "x.shape"
   ]
  },
  {
   "cell_type": "code",
   "execution_count": 4,
   "metadata": {},
   "outputs": [],
   "source": [
    "from einops.layers.torch import Rearrange\n",
    "\n",
    "class ANeuralNetwork(nn.Module):\n",
    "    def __init__(self, in_channels: int,num_anchors_per_cell:int, num_classes:int):\n",
    "        super().__init__()\n",
    "        num_predicted_channels = num_anchors_per_cell * (4 + 1 + num_classes)\n",
    "        self.conv = nn.Conv2d(in_channels=in_channels, out_channels=num_predicted_channels, kernel_size=1, stride=1,)\n",
    "        \n",
    "        self.rearrange = Rearrange(\"b (num_anchors_per_cell p)h w → b num_anchors_per_cell h w p\", num_anchors_per_cell=num_anchors_per_cell)\n",
    "\n",
    "def forward(self, x: torch.Tensor) -> torch.Tensor:\n",
    "    x = self.conv(x)\n",
    "    x = self. rearrange (x)\n",
    "    return x"
   ]
  },
  {
   "cell_type": "code",
   "execution_count": null,
   "metadata": {},
   "outputs": [
    {
     "data": {
      "text/plain": [
       "torch.Size([1, 3, 13, 13, 85])"
      ]
     },
     "execution_count": 6,
     "metadata": {},
     "output_type": "execute_result"
    }
   ],
   "source": [
    "from einops.layers.torch import Rearrange\n",
    "\n",
    "class ANeuralNetwork(nn.Module):\n",
    "\tdef __init__(self, in_channels: int, num_anchors_per_cell: int, num_classes: int):\n",
    "\t\tsuper().__init__()\n",
    "\t\tnum_predicted_channels = num_anchors_per_cell * (4 + 1 + num_classes)\n",
    "\t\tself.conv = nn.Conv2d(in_channels=in_channels, out_channels=num_predicted_channels, kernel_size=1, stride=1)\n",
    "\t\t\n",
    "\t\tself.rearrange = Rearrange(\"b (num_anchors_per_cell p) h w -> b num_anchors_per_cell h w p\", num_anchors_per_cell=num_anchors_per_cell)\n",
    "\t\n",
    "\tdef forward(self, x: torch.Tensor) -> torch.Tensor:\n",
    "\t\tx = self.conv(x)\n",
    "\t\tx = self.rearrange(x)\n",
    "\t\treturn x\n",
    "\n",
    "net = ANeuralNetwork(in_channels=512, num_anchors_per_cell=3, num_classes=80)\n",
    "input_x = torch.randn(size=(1, 512, 13, 13))\n",
    "output = net(input_x)\n",
    "output.shape # output is [1, 3, 13, 13, 85]"
   ]
  },
  {
   "cell_type": "code",
   "execution_count": null,
   "metadata": {},
   "outputs": [],
   "source": []
  }
 ],
 "metadata": {
  "kernelspec": {
   "display_name": "my_central_env",
   "language": "python",
   "name": "python3"
  },
  "language_info": {
   "codemirror_mode": {
    "name": "ipython",
    "version": 3
   },
   "file_extension": ".py",
   "mimetype": "text/x-python",
   "name": "python",
   "nbconvert_exporter": "python",
   "pygments_lexer": "ipython3",
   "version": "3.11.3"
  }
 },
 "nbformat": 4,
 "nbformat_minor": 2
}
